{
 "cells": [
  {
   "cell_type": "markdown",
   "metadata": {},
   "source": [
    "# Ejercicio Propio\n",
    "1. Importar librerías instaladas \n",
    "``` pip install pandas\n",
    "    pip install numpy\n",
    "    pip install matplotlib\n",
    "    pip install seaborn\n",
    "```"
   ]
  },
  {
   "cell_type": "code",
   "execution_count": 1,
   "metadata": {},
   "outputs": [],
   "source": [
    "import pandas as pd  \n",
    "import numpy as np  \n",
    "import matplotlib.pyplot as plt  \n",
    "import seaborn as sns"
   ]
  },
  {
   "cell_type": "code",
   "execution_count": 4,
   "metadata": {},
   "outputs": [
    {
     "name": "stdout",
     "output_type": "stream",
     "text": [
      "       Palabras clave       Fecha y hora                               Origen  \\\n",
      "0  Auditoría correcta  9/3/2025 19:51:54  Microsoft-Windows-Security-Auditing   \n",
      "1  Auditoría correcta  9/3/2025 19:51:27  Microsoft-Windows-Security-Auditing   \n",
      "2  Auditoría correcta  9/3/2025 19:51:27  Microsoft-Windows-Security-Auditing   \n",
      "3  Auditoría correcta  9/3/2025 19:51:27  Microsoft-Windows-Security-Auditing   \n",
      "4  Auditoría correcta  9/3/2025 19:51:27  Microsoft-Windows-Security-Auditing   \n",
      "\n",
      "   Id. del evento    Categoría de la tarea  \\\n",
      "0            4798  User Account Management   \n",
      "1            5379  User Account Management   \n",
      "2            5379  User Account Management   \n",
      "3            5379  User Account Management   \n",
      "4            5379  User Account Management   \n",
      "\n",
      "                                         Descripcion  \n",
      "0  Se enumeró la pertenencia a grupos locales de ...  \n",
      "1  Las credenciales del Administrador de credenci...  \n",
      "2  Las credenciales del Administrador de credenci...  \n",
      "3  Las credenciales del Administrador de credenci...  \n",
      "4  Las credenciales del Administrador de credenci...  \n"
     ]
    }
   ],
   "source": [
    "df=pd.read_csv('event-PC_g1.csv')\n",
    "print(df.head())"
   ]
  },
  {
   "cell_type": "code",
   "execution_count": 8,
   "metadata": {},
   "outputs": [
    {
     "name": "stdout",
     "output_type": "stream",
     "text": [
      "          Palabras clave        Fecha y hora  \\\n",
      "4999  Auditoría correcta 2025-08-03 08:31:44   \n",
      "4998  Auditoría correcta 2025-08-03 08:31:47   \n",
      "4997  Auditoría correcta 2025-08-03 08:31:47   \n",
      "4996  Auditoría correcta 2025-08-03 08:31:50   \n",
      "4995  Auditoría correcta 2025-08-03 08:31:50   \n",
      "...                  ...                 ...   \n",
      "33    Auditoría correcta 2025-09-03 19:51:27   \n",
      "32    Auditoría correcta 2025-09-03 19:51:27   \n",
      "31    Auditoría correcta 2025-09-03 19:51:27   \n",
      "44    Auditoría correcta 2025-09-03 19:51:27   \n",
      "0     Auditoría correcta 2025-09-03 19:51:54   \n",
      "\n",
      "                                   Origen  Id. del evento  \\\n",
      "4999  Microsoft-Windows-Security-Auditing            4798   \n",
      "4998  Microsoft-Windows-Security-Auditing            4624   \n",
      "4997  Microsoft-Windows-Security-Auditing            4672   \n",
      "4996  Microsoft-Windows-Security-Auditing            4624   \n",
      "4995  Microsoft-Windows-Security-Auditing            4672   \n",
      "...                                   ...             ...   \n",
      "33    Microsoft-Windows-Security-Auditing            5379   \n",
      "32    Microsoft-Windows-Security-Auditing            5379   \n",
      "31    Microsoft-Windows-Security-Auditing            5379   \n",
      "44    Microsoft-Windows-Security-Auditing            5379   \n",
      "0     Microsoft-Windows-Security-Auditing            4798   \n",
      "\n",
      "        Categoría de la tarea  \\\n",
      "4999  User Account Management   \n",
      "4998                    Logon   \n",
      "4997            Special Logon   \n",
      "4996                    Logon   \n",
      "4995            Special Logon   \n",
      "...                       ...   \n",
      "33    User Account Management   \n",
      "32    User Account Management   \n",
      "31    User Account Management   \n",
      "44    User Account Management   \n",
      "0     User Account Management   \n",
      "\n",
      "                                            Descripcion  \n",
      "4999  Se enumeró la pertenencia a grupos locales de ...  \n",
      "4998  Se inició sesión correctamente en una cuenta.\\...  \n",
      "4997  Se asignaron privilegios especiales a un nuevo...  \n",
      "4996  Se inició sesión correctamente en una cuenta.\\...  \n",
      "4995  Se asignaron privilegios especiales a un nuevo...  \n",
      "...                                                 ...  \n",
      "33    Las credenciales del Administrador de credenci...  \n",
      "32    Las credenciales del Administrador de credenci...  \n",
      "31    Las credenciales del Administrador de credenci...  \n",
      "44    Las credenciales del Administrador de credenci...  \n",
      "0     Se enumeró la pertenencia a grupos locales de ...  \n",
      "\n",
      "[5000 rows x 6 columns]\n"
     ]
    }
   ],
   "source": [
    "logs_df = pd.DataFrame(df)\n",
    "#print(logs_df)\n",
    "\n",
    "# Configurar Fecha y hora como índice  \n",
    "logs_df['Fecha y hora'] = pd.to_datetime(logs_df['Fecha y hora'])  \n",
    "logs_df = logs_df.sort_values('Fecha y hora')\n",
    "\n",
    "print(logs_df)\n"
   ]
  }
 ],
 "metadata": {
  "kernelspec": {
   "display_name": "tarea3",
   "language": "python",
   "name": "python3"
  },
  "language_info": {
   "codemirror_mode": {
    "name": "ipython",
    "version": 3
   },
   "file_extension": ".py",
   "mimetype": "text/x-python",
   "name": "python",
   "nbconvert_exporter": "python",
   "pygments_lexer": "ipython3",
   "version": "3.12.9"
  }
 },
 "nbformat": 4,
 "nbformat_minor": 2
}
